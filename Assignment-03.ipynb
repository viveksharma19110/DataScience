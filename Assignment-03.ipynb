{
  "cells": [
    {
      "cell_type": "markdown",
      "metadata": {
        "id": "view-in-github",
        "colab_type": "text"
      },
      "source": [
        "<a href=\"https://colab.research.google.com/github/viveksharma19110/DataScience/blob/main/Assignment-03.ipynb\" target=\"_parent\"><img src=\"https://colab.research.google.com/assets/colab-badge.svg\" alt=\"Open In Colab\"/></a>"
      ]
    },
    {
      "cell_type": "code",
      "execution_count": null,
      "metadata": {
        "id": "pmVuqGNH-yKB"
      },
      "outputs": [],
      "source": [
        "#Create a file thatcontains 1000 lines of random strings.\n",
        "import random\n",
        "import string\n",
        "\n",
        "def generate_random_string(length):\n",
        "    letters = string.ascii_lowercase\n",
        "    return ''.join(random.choice(letters) for _ in range(length))\n",
        "\n",
        "def create_random_strings_file(file_path, num_lines, string_length):\n",
        "    with open(file_path, 'w') as file:\n",
        "        for _ in range(num_lines):\n",
        "            random_string = generate_random_string(string_length)\n",
        "            file.write(random_string + '\\n')\n",
        "\n",
        "file_path = 'random_strings.txt'\n",
        "num_lines = 1000\n",
        "string_length = 10\n",
        "\n",
        "create_random_strings_file(file_path, num_lines, string_length)\n"
      ]
    },
    {
      "cell_type": "code",
      "execution_count": null,
      "metadata": {
        "id": "UkV4i2AT_oK7"
      },
      "outputs": [],
      "source": [
        "#Create a file that contains multiple lines of random strings and file size must be 5 MB.\n",
        "import random\n",
        "import string\n",
        "import os\n",
        "\n",
        "def generate_random_string(length):\n",
        "    letters = string.ascii_lowercase\n",
        "    return ''.join(random.choice(letters) for _ in range(length))\n",
        "\n",
        "def create_random_strings_file(file_path, target_size):\n",
        "    target_size_bytes = target_size * 1024 * 1024\n",
        "\n",
        "    with open(file_path, 'w') as file:\n",
        "        file_size = 0\n",
        "\n",
        "        while file_size < target_size_bytes:\n",
        "            string_length = random.randint(1, 100)\n",
        "            random_string = generate_random_string(string_length)\n",
        "\n",
        "            file.write(random_string + '\\n')\n",
        "            file_size = os.path.getsize(file_path)\n",
        "\n",
        "    with open(file_path, 'rb+') as file:\n",
        "        file.truncate(target_size_bytes)\n",
        "\n",
        "file_path = 'random_strings.txt'\n",
        "target_file_size = 5\n",
        "create_random_strings_file(file_path, target_file_size)\n"
      ]
    },
    {
      "cell_type": "code",
      "execution_count": null,
      "metadata": {
        "colab": {
          "base_uri": "https://localhost:8080/"
        },
        "id": "s9wV4qd9AHry",
        "outputId": "6c888295-fb00-4f74-ac6b-313b57d97c11"
      },
      "outputs": [
        {
          "name": "stdout",
          "output_type": "stream",
          "text": [
            "File 1 created: random_strings_1.txt\n",
            "File 2 created: random_strings_2.txt\n",
            "File 3 created: random_strings_3.txt\n",
            "File 4 created: random_strings_4.txt\n",
            "File 5 created: random_strings_5.txt\n",
            "File 6 created: random_strings_6.txt\n",
            "File 7 created: random_strings_7.txt\n",
            "File 8 created: random_strings_8.txt\n",
            "File 9 created: random_strings_9.txt\n",
            "File 10 created: random_strings_10.txt\n"
          ]
        }
      ],
      "source": [
        "#Create 10 files that contains multiple lines of random strings and file size of each file must be 5 MB.\n",
        "import random\n",
        "import string\n",
        "import os\n",
        "\n",
        "def generate_random_string(length):\n",
        "\n",
        "    letters = string.ascii_lowercase\n",
        "    return ''.join(random.choice(letters) for _ in range(length))\n",
        "\n",
        "def create_random_strings_file(file_path, target_size):\n",
        "\n",
        "    target_size_bytes = target_size * 1024 * 1024\n",
        "\n",
        "    with open(file_path, 'w') as file:\n",
        "        file_size = 0\n",
        "\n",
        "        while file_size < target_size_bytes:\n",
        "            string_length = random.randint(1, 100)\n",
        "            random_string = generate_random_string(string_length)\n",
        "\n",
        "            file.write(random_string + '\\n')\n",
        "            file_size = os.path.getsize(file_path)\n",
        "\n",
        "    with open(file_path, 'rb+') as file:\n",
        "        file.truncate(target_size_bytes)\n",
        "\n",
        "target_file_size = 5\n",
        "\n",
        "for i in range(1, 11):\n",
        "    file_path = f'random_strings_{i}.txt'\n",
        "    create_random_strings_file(file_path, target_file_size)\n",
        "    print(f'File {i} created: {file_path}')\n"
      ]
    },
    {
      "cell_type": "code",
      "execution_count": null,
      "metadata": {
        "colab": {
          "background_save": true,
          "base_uri": "https://localhost:8080/"
        },
        "id": "Nhbj-t2zA4xa",
        "outputId": "bfe76a53-f4a9-4d6d-c864-73c047d9d9f6"
      },
      "outputs": [
        {
          "name": "stdout",
          "output_type": "stream",
          "text": [
            "File created: random_strings_1GB.txt\n",
            "File created: random_strings_2GB.txt\n",
            "File created: random_strings_3GB.txt\n",
            "File created: random_strings_4GB.txt\n"
          ]
        }
      ],
      "source": [
        "#Create 5 files of size 1 GB, 2GB, 3GB, 4GB and 5GB; file contains multiple lines of random strings.\n",
        "import random\n",
        "import string\n",
        "\n",
        "def generate_random_string(length):\n",
        "    # Generate a random string of given length\n",
        "    letters = string.ascii_lowercase\n",
        "    return ''.join(random.choice(letters) for _ in range(length))\n",
        "\n",
        "def create_random_strings_file(file_path, target_size):\n",
        "    target_size_bytes = target_size * 1024 * 1024 * 1024\n",
        "    with open(file_path, 'w') as file:\n",
        "        while file.tell() < target_size_bytes:\n",
        "            chunk_size = 1000\n",
        "            chunk = '\\n'.join(generate_random_string(100) for _ in range(chunk_size))\n",
        "            file.write(chunk + '\\n')\n",
        "\n",
        "file_sizes = [1, 2, 3, 4, 5]\n",
        "\n",
        "for size in file_sizes:\n",
        "    file_path = f'random_strings_{size}GB.txt'\n",
        "    create_random_strings_file(file_path, size)\n",
        "    print(f'File created: {file_path}')\n"
      ]
    },
    {
      "cell_type": "code",
      "execution_count": null,
      "metadata": {
        "id": "9zKld3odBXYy",
        "colab": {
          "base_uri": "https://localhost:8080/",
          "height": 344
        },
        "outputId": "2b5fcb0e-e772-41b7-fc4a-0de90396fa14"
      },
      "outputs": [
        {
          "output_type": "error",
          "ename": "FileNotFoundError",
          "evalue": "ignored",
          "traceback": [
            "\u001b[0;31m---------------------------------------------------------------------------\u001b[0m",
            "\u001b[0;31mFileNotFoundError\u001b[0m                         Traceback (most recent call last)",
            "\u001b[0;32m<ipython-input-1-d07bc2b32caa>\u001b[0m in \u001b[0;36m<cell line: 11>\u001b[0;34m()\u001b[0m\n\u001b[1;32m     11\u001b[0m \u001b[0;32mfor\u001b[0m \u001b[0msize\u001b[0m \u001b[0;32min\u001b[0m \u001b[0mfile_sizes\u001b[0m\u001b[0;34m:\u001b[0m\u001b[0;34m\u001b[0m\u001b[0;34m\u001b[0m\u001b[0m\n\u001b[1;32m     12\u001b[0m     \u001b[0mfile_path\u001b[0m \u001b[0;34m=\u001b[0m \u001b[0;34mf'random_strings_{size}GB.txt'\u001b[0m\u001b[0;34m\u001b[0m\u001b[0;34m\u001b[0m\u001b[0m\n\u001b[0;32m---> 13\u001b[0;31m     \u001b[0mconvert_file_to_uppercase\u001b[0m\u001b[0;34m(\u001b[0m\u001b[0mfile_path\u001b[0m\u001b[0;34m)\u001b[0m\u001b[0;34m\u001b[0m\u001b[0;34m\u001b[0m\u001b[0m\n\u001b[0m\u001b[1;32m     14\u001b[0m     \u001b[0mprint\u001b[0m\u001b[0;34m(\u001b[0m\u001b[0;34mf'File converted to uppercase: {file_path}'\u001b[0m\u001b[0;34m)\u001b[0m\u001b[0;34m\u001b[0m\u001b[0;34m\u001b[0m\u001b[0m\n",
            "\u001b[0;32m<ipython-input-1-d07bc2b32caa>\u001b[0m in \u001b[0;36mconvert_file_to_uppercase\u001b[0;34m(file_path)\u001b[0m\n\u001b[1;32m      1\u001b[0m \u001b[0;31m# Convert all the files of Q4 into upper case one by one.\u001b[0m\u001b[0;34m\u001b[0m\u001b[0;34m\u001b[0m\u001b[0m\n\u001b[1;32m      2\u001b[0m \u001b[0;32mdef\u001b[0m \u001b[0mconvert_file_to_uppercase\u001b[0m\u001b[0;34m(\u001b[0m\u001b[0mfile_path\u001b[0m\u001b[0;34m)\u001b[0m\u001b[0;34m:\u001b[0m\u001b[0;34m\u001b[0m\u001b[0;34m\u001b[0m\u001b[0m\n\u001b[0;32m----> 3\u001b[0;31m     \u001b[0;32mwith\u001b[0m \u001b[0mopen\u001b[0m\u001b[0;34m(\u001b[0m\u001b[0mfile_path\u001b[0m\u001b[0;34m,\u001b[0m \u001b[0;34m'r'\u001b[0m\u001b[0;34m)\u001b[0m \u001b[0;32mas\u001b[0m \u001b[0mfile\u001b[0m\u001b[0;34m:\u001b[0m\u001b[0;34m\u001b[0m\u001b[0;34m\u001b[0m\u001b[0m\n\u001b[0m\u001b[1;32m      4\u001b[0m         \u001b[0mcontent\u001b[0m \u001b[0;34m=\u001b[0m \u001b[0mfile\u001b[0m\u001b[0;34m.\u001b[0m\u001b[0mread\u001b[0m\u001b[0;34m(\u001b[0m\u001b[0;34m)\u001b[0m\u001b[0;34m\u001b[0m\u001b[0;34m\u001b[0m\u001b[0m\n\u001b[1;32m      5\u001b[0m \u001b[0;34m\u001b[0m\u001b[0m\n",
            "\u001b[0;31mFileNotFoundError\u001b[0m: [Errno 2] No such file or directory: 'random_strings_1GB.txt'"
          ]
        }
      ],
      "source": [
        "# Convert all the files of Q4 into upper case one by one.\n",
        "def convert_file_to_uppercase(file_path):\n",
        "    with open(file_path, 'r') as file:\n",
        "        content = file.read()\n",
        "\n",
        "    with open(file_path, 'w') as file:\n",
        "        file.write(content.upper())\n",
        "\n",
        "file_sizes = [1, 2, 3, 4, 5]\n",
        "\n",
        "for size in file_sizes:\n",
        "    file_path = f'random_strings_{size}GB.txt'\n",
        "    convert_file_to_uppercase(file_path)\n",
        "    print(f'File converted to uppercase: {file_path}')"
      ]
    },
    {
      "cell_type": "code",
      "execution_count": null,
      "metadata": {
        "id": "wWkilmuuCDR4"
      },
      "outputs": [],
      "source": [
        "# Convert all the files of Q4 into upper case parallel using multi-threading.\n",
        "import concurrent.futures\n",
        "\n",
        "def convert_file_to_uppercase(file_path):\n",
        "    with open(file_path, 'r') as file:\n",
        "        content = file.read()\n",
        "\n",
        "    with open(file_path, 'w') as file:\n",
        "        file.write(content.upper())\n",
        "\n",
        "# Example usage\n",
        "file_sizes = [1, 2, 3, 4, 5]  # Sizes in GB\n",
        "\n",
        "with concurrent.futures.ThreadPoolExecutor() as executor:\n",
        "    # Submit the conversion tasks to the thread pool\n",
        "    conversion_tasks = []\n",
        "    for size in file_sizes:\n",
        "        file_path = f'random_strings_{size}GB.txt'\n",
        "        task = executor.submit(convert_file_to_uppercase, file_path)\n",
        "        conversion_tasks.append(task)\n",
        "\n",
        "    # Wait for all tasks to complete\n",
        "    concurrent.futures.wait(conversion_tasks)\n",
        "\n",
        "print(\"All files converted to uppercase.\")"
      ]
    }
  ],
  "metadata": {
    "colab": {
      "provenance": [],
      "include_colab_link": true
    },
    "kernelspec": {
      "display_name": "Python 3",
      "name": "python3"
    },
    "language_info": {
      "name": "python"
    }
  },
  "nbformat": 4,
  "nbformat_minor": 0
}